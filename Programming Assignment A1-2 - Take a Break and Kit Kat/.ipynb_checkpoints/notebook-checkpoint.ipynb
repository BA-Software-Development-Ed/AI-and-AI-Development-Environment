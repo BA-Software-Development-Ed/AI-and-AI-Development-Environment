{
 "cells": [
  {
   "cell_type": "markdown",
   "metadata": {},
   "source": [
    "# Programming Assignment A1-2: Take a Break and Kit Kat\n",
    "\n",
    "The **objectives** are\n",
    "* practicing Python loop statements\n",
    "* counting time with **time** library\n",
    "* integrating resources from the web with **webbrowser** library\n",
    "\n",
    "The task is to create a Python program to remind you that restless work with your computer is not\n",
    "good for your health. The program should start playing music or video from the web once per hour.\n",
    "\n",
    "### Recommended\n",
    "**First**, try to analyse the problem and design the solution by asking yourself\n",
    "* what, actually, would you like to be coded?  \n",
    "\n",
    "**Second**, formulate which knowledge about Python, needed for this solution, you already have and\n",
    "which you are still missing\n",
    "* search Google for names of programming objects you want to learn more about  \n",
    "\n",
    "**Next**, get a hint from the instructor's solution provided in a notebook from the **Additional Resources**.  \n",
    "\n",
    "**Finally**, create your own alternative solution and upload it in **Peergrade**. If it is correct, it will bring you\n",
    "one credit."
   ]
  },
  {
   "cell_type": "code",
   "execution_count": 2,
   "metadata": {
    "ExecuteTime": {
     "end_time": "2020-02-05T14:35:31.139625Z",
     "start_time": "2020-02-05T14:35:31.136231Z"
    }
   },
   "outputs": [],
   "source": [
    "# imports the needed libraries\n",
    "import time\n",
    "import webbrowser"
   ]
  },
  {
   "cell_type": "code",
   "execution_count": null,
   "metadata": {
    "ExecuteTime": {
     "end_time": "2020-02-05T14:36:00.834799Z",
     "start_time": "2020-02-05T14:35:57.443Z"
    }
   },
   "outputs": [],
   "source": [
    "# variables\n",
    "url = 'https://www.youtube.com/watch?v=BIKarAqOB9I&t=12s' # THE MOST ANNOYING ALARM SOUND EVER ! 🔊\n",
    "sleep_duration = 3600 # 60 seconds to get a minute, time 60 to get an hour (3600 seconds) \n",
    "\n",
    "while(True):\n",
    "    time.sleep(sleep_duration) # stops the program until the sleep_duration has past\n",
    "    webbrowser.open_new(url) # open url in new window, raising the window if possible."
   ]
  }
 ],
 "metadata": {
  "kernelspec": {
   "display_name": "Python 3",
   "language": "python",
   "name": "python3"
  },
  "language_info": {
   "codemirror_mode": {
    "name": "ipython",
    "version": 3
   },
   "file_extension": ".py",
   "mimetype": "text/x-python",
   "name": "python",
   "nbconvert_exporter": "python",
   "pygments_lexer": "ipython3",
   "version": "3.7.4"
  },
  "varInspector": {
   "cols": {
    "lenName": 16,
    "lenType": 16,
    "lenVar": 40
   },
   "kernels_config": {
    "python": {
     "delete_cmd_postfix": "",
     "delete_cmd_prefix": "del ",
     "library": "var_list.py",
     "varRefreshCmd": "print(var_dic_list())"
    },
    "r": {
     "delete_cmd_postfix": ") ",
     "delete_cmd_prefix": "rm(",
     "library": "var_list.r",
     "varRefreshCmd": "cat(var_dic_list()) "
    }
   },
   "types_to_exclude": [
    "module",
    "function",
    "builtin_function_or_method",
    "instance",
    "_Feature"
   ],
   "window_display": false
  }
 },
 "nbformat": 4,
 "nbformat_minor": 4
}
