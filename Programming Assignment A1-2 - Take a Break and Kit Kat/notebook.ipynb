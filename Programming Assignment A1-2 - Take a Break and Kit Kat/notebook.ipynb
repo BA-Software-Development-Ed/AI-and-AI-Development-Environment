{
 "cells": [
  {
   "cell_type": "markdown",
   "metadata": {},
   "source": [
    "# Programming Assignment A1-2: Take a Break and Kit Kat\n",
    "\n",
    "The **objectives** are\n",
    "* practicing Python loop statements\n",
    "* counting time with **time** library\n",
    "* integrating resources from the web with **webbrowser** library\n",
    "\n",
    "The task is to create a Python program to remind you that restless work with your computer is not\n",
    "good for your health. The program should start playing music or video from the web once per hour.\n",
    "\n",
    "### Recommended\n",
    "**First**, try to analyse the problem and design the solution by asking yourself\n",
    "* what, actually, would you like to be coded?  \n",
    "\n",
    "**Second**, formulate which knowledge about Python, needed for this solution, you already have and\n",
    "which you are still missing\n",
    "* search Google for names of programming objects you want to learn more about  \n",
    "\n",
    "**Next**, get a hint from the instructor's solution provided in a notebook from the **Additional Resources**.  \n",
    "\n",
    "**Finally**, create your own alternative solution and upload it in **Peergrade**. If it is correct, it will bring you\n",
    "one credit.\n",
    "\n",
    "---"
   ]
  },
  {
   "cell_type": "markdown",
   "metadata": {},
   "source": [
    "### imports the needed libraries"
   ]
  },
  {
   "cell_type": "code",
   "execution_count": 5,
   "metadata": {
    "ExecuteTime": {
     "end_time": "2020-02-05T14:45:55.313155Z",
     "start_time": "2020-02-05T14:45:55.308427Z"
    }
   },
   "outputs": [],
   "source": [
    "import time\n",
    "import webbrowser"
   ]
  },
  {
   "cell_type": "markdown",
   "metadata": {},
   "source": [
    "### variables"
   ]
  },
  {
   "cell_type": "code",
   "execution_count": 6,
   "metadata": {
    "ExecuteTime": {
     "end_time": "2020-02-05T14:45:56.477291Z",
     "start_time": "2020-02-05T14:45:56.472024Z"
    }
   },
   "outputs": [],
   "source": [
    "url = 'https://www.youtube.com/watch?v=BIKarAqOB9I&t=12s' # THE MOST ANNOYING ALARM SOUND EVER ! 🔊\n",
    "sleep_duration = 3600 # 60 seconds to get a minute, time 60 to get an hour (3600 seconds) "
   ]
  },
  {
   "cell_type": "markdown",
   "metadata": {},
   "source": [
    "### `break_alert`\n"
   ]
  },
  {
   "cell_type": "code",
   "execution_count": 7,
   "metadata": {
    "ExecuteTime": {
     "end_time": "2020-02-05T14:45:57.496337Z",
     "start_time": "2020-02-05T14:45:57.491287Z"
    }
   },
   "outputs": [],
   "source": [
    "def break_alert(url: str, sleep_duration: int):\n",
    "    while(True):\n",
    "        time.sleep(sleep_duration) # stops the program until the sleep_duration has past\n",
    "        webbrowser.open_new(url) # open url in new window, raising the window if possible."
   ]
  },
  {
   "cell_type": "markdown",
   "metadata": {},
   "source": [
    "### function calls"
   ]
  },
  {
   "cell_type": "code",
   "execution_count": 8,
   "metadata": {
    "ExecuteTime": {
     "end_time": "2020-02-05T14:46:04.618216Z",
     "start_time": "2020-02-05T14:45:59.072120Z"
    }
   },
   "outputs": [
    {
     "ename": "KeyboardInterrupt",
     "evalue": "",
     "output_type": "error",
     "traceback": [
      "\u001b[0;31m---------------------------------------------------------------------------\u001b[0m",
      "\u001b[0;31mKeyboardInterrupt\u001b[0m                         Traceback (most recent call last)",
      "\u001b[0;32m<ipython-input-8-2b13f154dba4>\u001b[0m in \u001b[0;36m<module>\u001b[0;34m\u001b[0m\n\u001b[0;32m----> 1\u001b[0;31m \u001b[0mbreak_alert\u001b[0m\u001b[0;34m(\u001b[0m\u001b[0murl\u001b[0m\u001b[0;34m,\u001b[0m \u001b[0msleep_duration\u001b[0m\u001b[0;34m)\u001b[0m\u001b[0;34m\u001b[0m\u001b[0;34m\u001b[0m\u001b[0m\n\u001b[0m",
      "\u001b[0;32m<ipython-input-7-74026df3bc4b>\u001b[0m in \u001b[0;36mbreak_alert\u001b[0;34m(url, sleep_duration)\u001b[0m\n\u001b[1;32m      2\u001b[0m \u001b[0;32mdef\u001b[0m \u001b[0mbreak_alert\u001b[0m\u001b[0;34m(\u001b[0m\u001b[0murl\u001b[0m\u001b[0;34m:\u001b[0m \u001b[0mstr\u001b[0m\u001b[0;34m,\u001b[0m \u001b[0msleep_duration\u001b[0m\u001b[0;34m:\u001b[0m \u001b[0mint\u001b[0m\u001b[0;34m)\u001b[0m\u001b[0;34m:\u001b[0m\u001b[0;34m\u001b[0m\u001b[0;34m\u001b[0m\u001b[0m\n\u001b[1;32m      3\u001b[0m     \u001b[0;32mwhile\u001b[0m\u001b[0;34m(\u001b[0m\u001b[0;32mTrue\u001b[0m\u001b[0;34m)\u001b[0m\u001b[0;34m:\u001b[0m\u001b[0;34m\u001b[0m\u001b[0;34m\u001b[0m\u001b[0m\n\u001b[0;32m----> 4\u001b[0;31m         \u001b[0mtime\u001b[0m\u001b[0;34m.\u001b[0m\u001b[0msleep\u001b[0m\u001b[0;34m(\u001b[0m\u001b[0msleep_duration\u001b[0m\u001b[0;34m)\u001b[0m \u001b[0;31m# stops the program until the sleep_duration has past\u001b[0m\u001b[0;34m\u001b[0m\u001b[0;34m\u001b[0m\u001b[0m\n\u001b[0m\u001b[1;32m      5\u001b[0m         \u001b[0mwebbrowser\u001b[0m\u001b[0;34m.\u001b[0m\u001b[0mopen_new\u001b[0m\u001b[0;34m(\u001b[0m\u001b[0murl\u001b[0m\u001b[0;34m)\u001b[0m \u001b[0;31m# open url in new window, raising the window if possible.\u001b[0m\u001b[0;34m\u001b[0m\u001b[0;34m\u001b[0m\u001b[0m\n",
      "\u001b[0;31mKeyboardInterrupt\u001b[0m: "
     ]
    }
   ],
   "source": [
    "break_alert(url, sleep_duration)"
   ]
  }
 ],
 "metadata": {
  "kernelspec": {
   "display_name": "Python 3",
   "language": "python",
   "name": "python3"
  },
  "language_info": {
   "codemirror_mode": {
    "name": "ipython",
    "version": 3
   },
   "file_extension": ".py",
   "mimetype": "text/x-python",
   "name": "python",
   "nbconvert_exporter": "python",
   "pygments_lexer": "ipython3",
   "version": "3.7.4"
  },
  "varInspector": {
   "cols": {
    "lenName": 16,
    "lenType": 16,
    "lenVar": 40
   },
   "kernels_config": {
    "python": {
     "delete_cmd_postfix": "",
     "delete_cmd_prefix": "del ",
     "library": "var_list.py",
     "varRefreshCmd": "print(var_dic_list())"
    },
    "r": {
     "delete_cmd_postfix": ") ",
     "delete_cmd_prefix": "rm(",
     "library": "var_list.r",
     "varRefreshCmd": "cat(var_dic_list()) "
    }
   },
   "types_to_exclude": [
    "module",
    "function",
    "builtin_function_or_method",
    "instance",
    "_Feature"
   ],
   "window_display": false
  }
 },
 "nbformat": 4,
 "nbformat_minor": 4
}
