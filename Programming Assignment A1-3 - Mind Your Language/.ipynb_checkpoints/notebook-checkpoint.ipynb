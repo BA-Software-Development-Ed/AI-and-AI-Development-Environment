{
 "cells": [
  {
   "cell_type": "markdown",
   "metadata": {},
   "source": [
    "# Programming Assignment A1-3: Mind Your Language\n",
    "\n",
    "**Objective**: to get experience in\n",
    "* reading files from the local machine\n",
    "* integrating external service from Internet\n",
    "* natural language processing\n",
    "\n",
    "**Problem**: Some text documents meant for distribution in Internet contain bad language and need\n",
    "to be either corrected or deleted. The language can be controlled automatically by AI software,\n",
    "which uses linguistic analysis techniques. As an example, a web service for searching inappropriate\n",
    "words in a text is published at http://www.wdylike.appspot.com/\n",
    "\n",
    "**Task**: Create a Python program, which\n",
    "* opens a text file from a local folder\n",
    "* reads the text stored in the file\n",
    "* connects to the remote service, which checks for profanity in the language\n",
    "* sends the content of your file to this service\n",
    "* gets and prints the returned results\n",
    "\n",
    "**Recommendation**: Plan - Research - Design - Program - Test - Deliver  \n",
    "\n",
    "If necessary, get support from the instructor's notebook in **Additional Resources**.\n",
    "\n",
    "**Result**: Submit your code to **Peergrade**. If it is usable, it brings you one credit\n",
    "\n",
    "---"
   ]
  },
  {
   "cell_type": "markdown",
   "metadata": {},
   "source": [
    "### imports the needed libraries"
   ]
  },
  {
   "cell_type": "code",
   "execution_count": 10,
   "metadata": {
    "ExecuteTime": {
     "end_time": "2020-02-05T14:27:50.248062Z",
     "start_time": "2020-02-05T14:27:50.244269Z"
    }
   },
   "outputs": [],
   "source": [
    "import urllib.request as request"
   ]
  },
  {
   "cell_type": "markdown",
   "metadata": {},
   "source": [
    "### variables"
   ]
  },
  {
   "cell_type": "code",
   "execution_count": 17,
   "metadata": {
    "ExecuteTime": {
     "end_time": "2020-02-05T14:57:53.057234Z",
     "start_time": "2020-02-05T14:57:53.052124Z"
    }
   },
   "outputs": [],
   "source": [
    "file_path = 'content.txt'\n",
    "url_query = 'http://www.wdylike.appspot.com/?q='       "
   ]
  },
  {
   "cell_type": "markdown",
   "metadata": {},
   "source": [
    "### `profanity_detection`"
   ]
  },
  {
   "cell_type": "code",
   "execution_count": 20,
   "metadata": {
    "ExecuteTime": {
     "end_time": "2020-02-05T15:01:50.042526Z",
     "start_time": "2020-02-05T15:01:50.037650Z"
    }
   },
   "outputs": [],
   "source": [
    "def profanity_detection(file_path: str, url_query: str):\n",
    "    # \"open with\" makes sure the file is closed after use\n",
    "    with open (file_path, 'r') as file:\n",
    "        content = file.read()\n",
    "\n",
    "    # the query parameter only takes strings without whitespace\n",
    "    content = ''.join(content.split())    \n",
    "    connection = request.urlopen(url_query + content)\n",
    "    response = str(connection.read())\n",
    "    connection.close()\n",
    "    return response"
   ]
  },
  {
   "cell_type": "markdown",
   "metadata": {},
   "source": [
    "### function calls"
   ]
  },
  {
   "cell_type": "code",
   "execution_count": 19,
   "metadata": {
    "ExecuteTime": {
     "end_time": "2020-02-05T14:57:56.756066Z",
     "start_time": "2020-02-05T14:57:56.404457Z"
    }
   },
   "outputs": [
    {
     "name": "stdout",
     "output_type": "stream",
     "text": [
      "Content contains profanity!\n"
     ]
    }
   ],
   "source": [
    "response = profanity_detection(file_path, url_query)\n",
    "\n",
    "# prints message based on the response\n",
    "if \"true\" in response: print('Content contains profanity!')\n",
    "elif \"false\" in response: print('Content is profanity free :D')\n",
    "else: print('err:: Response was invalid :(')"
   ]
  }
 ],
 "metadata": {
  "kernelspec": {
   "display_name": "Python 3",
   "language": "python",
   "name": "python3"
  },
  "language_info": {
   "codemirror_mode": {
    "name": "ipython",
    "version": 3
   },
   "file_extension": ".py",
   "mimetype": "text/x-python",
   "name": "python",
   "nbconvert_exporter": "python",
   "pygments_lexer": "ipython3",
   "version": "3.7.4"
  },
  "varInspector": {
   "cols": {
    "lenName": 16,
    "lenType": 16,
    "lenVar": 40
   },
   "kernels_config": {
    "python": {
     "delete_cmd_postfix": "",
     "delete_cmd_prefix": "del ",
     "library": "var_list.py",
     "varRefreshCmd": "print(var_dic_list())"
    },
    "r": {
     "delete_cmd_postfix": ") ",
     "delete_cmd_prefix": "rm(",
     "library": "var_list.r",
     "varRefreshCmd": "cat(var_dic_list()) "
    }
   },
   "types_to_exclude": [
    "module",
    "function",
    "builtin_function_or_method",
    "instance",
    "_Feature"
   ],
   "window_display": false
  }
 },
 "nbformat": 4,
 "nbformat_minor": 4
}
